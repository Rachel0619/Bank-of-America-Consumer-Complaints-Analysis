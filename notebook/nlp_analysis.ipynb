{
 "cells": [
  {
   "cell_type": "code",
   "execution_count": 5,
   "metadata": {},
   "outputs": [],
   "source": [
    "import pandas as pd\n",
    "import numpy as np"
   ]
  },
  {
   "cell_type": "code",
   "execution_count": 6,
   "metadata": {},
   "outputs": [],
   "source": [
    "df = pd.read_csv(\"../data/processed/complaints_transformed_2.csv\")"
   ]
  },
  {
   "cell_type": "code",
   "execution_count": 7,
   "metadata": {},
   "outputs": [
    {
     "data": {
      "text/html": [
       "<div>\n",
       "<style scoped>\n",
       "    .dataframe tbody tr th:only-of-type {\n",
       "        vertical-align: middle;\n",
       "    }\n",
       "\n",
       "    .dataframe tbody tr th {\n",
       "        vertical-align: top;\n",
       "    }\n",
       "\n",
       "    .dataframe thead th {\n",
       "        text-align: right;\n",
       "    }\n",
       "</style>\n",
       "<table border=\"1\" class=\"dataframe\">\n",
       "  <thead>\n",
       "    <tr style=\"text-align: right;\">\n",
       "      <th></th>\n",
       "      <th>date_received</th>\n",
       "      <th>product</th>\n",
       "      <th>sub_product</th>\n",
       "      <th>issue</th>\n",
       "      <th>sub_issue</th>\n",
       "      <th>consumer_complaint_narrative</th>\n",
       "      <th>company_public_response</th>\n",
       "      <th>state</th>\n",
       "      <th>zip_code</th>\n",
       "      <th>tags</th>\n",
       "      <th>consumer_consent_provided</th>\n",
       "      <th>submitted_via</th>\n",
       "      <th>date_sent_to_company</th>\n",
       "      <th>company_response_to_consumer</th>\n",
       "      <th>timely_response</th>\n",
       "      <th>complaint_id</th>\n",
       "      <th>year_month</th>\n",
       "    </tr>\n",
       "  </thead>\n",
       "  <tbody>\n",
       "    <tr>\n",
       "      <th>0</th>\n",
       "      <td>2024-05-24</td>\n",
       "      <td>Vehicle loan or lease</td>\n",
       "      <td>Loan</td>\n",
       "      <td>Problems at the end of the loan or lease</td>\n",
       "      <td>Unable to receive car title or other problem a...</td>\n",
       "      <td>No Narrative</td>\n",
       "      <td>Company has responded to the consumer and the ...</td>\n",
       "      <td>FL</td>\n",
       "      <td>32835</td>\n",
       "      <td>No Tags</td>\n",
       "      <td>Consent not provided</td>\n",
       "      <td>Web</td>\n",
       "      <td>2024-05-25</td>\n",
       "      <td>Closed with non-monetary relief</td>\n",
       "      <td>1</td>\n",
       "      <td>9095672</td>\n",
       "      <td>2024-05</td>\n",
       "    </tr>\n",
       "    <tr>\n",
       "      <th>1</th>\n",
       "      <td>2024-09-12</td>\n",
       "      <td>Checking or savings account</td>\n",
       "      <td>Checking account</td>\n",
       "      <td>Opening an account</td>\n",
       "      <td>Unable to open an account</td>\n",
       "      <td>No Narrative</td>\n",
       "      <td>Unknown</td>\n",
       "      <td>NY</td>\n",
       "      <td>11691</td>\n",
       "      <td>No Tags</td>\n",
       "      <td>No Consent Provided</td>\n",
       "      <td>Phone</td>\n",
       "      <td>2024-09-12</td>\n",
       "      <td>In progress</td>\n",
       "      <td>1</td>\n",
       "      <td>10100450</td>\n",
       "      <td>2024-09</td>\n",
       "    </tr>\n",
       "    <tr>\n",
       "      <th>2</th>\n",
       "      <td>2024-07-16</td>\n",
       "      <td>Money transfer, virtual currency, or money ser...</td>\n",
       "      <td>Domestic (US) money transfer</td>\n",
       "      <td>Fraud or scam</td>\n",
       "      <td>Unknown</td>\n",
       "      <td>Background - I wanted to report about a fraud ...</td>\n",
       "      <td>Company has responded to the consumer and the ...</td>\n",
       "      <td>NJ</td>\n",
       "      <td>07302</td>\n",
       "      <td>No Tags</td>\n",
       "      <td>Consent provided</td>\n",
       "      <td>Web</td>\n",
       "      <td>2024-07-16</td>\n",
       "      <td>Closed with explanation</td>\n",
       "      <td>1</td>\n",
       "      <td>9519835</td>\n",
       "      <td>2024-07</td>\n",
       "    </tr>\n",
       "    <tr>\n",
       "      <th>3</th>\n",
       "      <td>2024-03-17</td>\n",
       "      <td>Prepaid card</td>\n",
       "      <td>General-purpose prepaid card</td>\n",
       "      <td>Unexpected or other fees</td>\n",
       "      <td>Unknown</td>\n",
       "      <td>No Narrative</td>\n",
       "      <td>Company has responded to the consumer and the ...</td>\n",
       "      <td>CA</td>\n",
       "      <td>92410</td>\n",
       "      <td>No Tags</td>\n",
       "      <td>Consent not provided</td>\n",
       "      <td>Web</td>\n",
       "      <td>2024-03-19</td>\n",
       "      <td>Closed with explanation</td>\n",
       "      <td>1</td>\n",
       "      <td>8563486</td>\n",
       "      <td>2024-03</td>\n",
       "    </tr>\n",
       "    <tr>\n",
       "      <th>4</th>\n",
       "      <td>2024-06-17</td>\n",
       "      <td>Checking or savings account</td>\n",
       "      <td>Checking account</td>\n",
       "      <td>Problem with a lender or other company chargin...</td>\n",
       "      <td>Transaction was not authorized</td>\n",
       "      <td>No Narrative</td>\n",
       "      <td>Company has responded to the consumer and the ...</td>\n",
       "      <td>CA</td>\n",
       "      <td>92104</td>\n",
       "      <td>No Tags</td>\n",
       "      <td>Consent not provided</td>\n",
       "      <td>Web</td>\n",
       "      <td>2024-06-17</td>\n",
       "      <td>Closed with explanation</td>\n",
       "      <td>1</td>\n",
       "      <td>9283081</td>\n",
       "      <td>2024-06</td>\n",
       "    </tr>\n",
       "  </tbody>\n",
       "</table>\n",
       "</div>"
      ],
      "text/plain": [
       "  date_received                                            product  \\\n",
       "0    2024-05-24                              Vehicle loan or lease   \n",
       "1    2024-09-12                        Checking or savings account   \n",
       "2    2024-07-16  Money transfer, virtual currency, or money ser...   \n",
       "3    2024-03-17                                       Prepaid card   \n",
       "4    2024-06-17                        Checking or savings account   \n",
       "\n",
       "                    sub_product  \\\n",
       "0                          Loan   \n",
       "1              Checking account   \n",
       "2  Domestic (US) money transfer   \n",
       "3  General-purpose prepaid card   \n",
       "4              Checking account   \n",
       "\n",
       "                                               issue  \\\n",
       "0           Problems at the end of the loan or lease   \n",
       "1                                 Opening an account   \n",
       "2                                      Fraud or scam   \n",
       "3                           Unexpected or other fees   \n",
       "4  Problem with a lender or other company chargin...   \n",
       "\n",
       "                                           sub_issue  \\\n",
       "0  Unable to receive car title or other problem a...   \n",
       "1                          Unable to open an account   \n",
       "2                                            Unknown   \n",
       "3                                            Unknown   \n",
       "4                     Transaction was not authorized   \n",
       "\n",
       "                        consumer_complaint_narrative  \\\n",
       "0                                       No Narrative   \n",
       "1                                       No Narrative   \n",
       "2  Background - I wanted to report about a fraud ...   \n",
       "3                                       No Narrative   \n",
       "4                                       No Narrative   \n",
       "\n",
       "                             company_public_response state zip_code     tags  \\\n",
       "0  Company has responded to the consumer and the ...    FL    32835  No Tags   \n",
       "1                                            Unknown    NY    11691  No Tags   \n",
       "2  Company has responded to the consumer and the ...    NJ    07302  No Tags   \n",
       "3  Company has responded to the consumer and the ...    CA    92410  No Tags   \n",
       "4  Company has responded to the consumer and the ...    CA    92104  No Tags   \n",
       "\n",
       "  consumer_consent_provided submitted_via date_sent_to_company  \\\n",
       "0      Consent not provided           Web           2024-05-25   \n",
       "1       No Consent Provided         Phone           2024-09-12   \n",
       "2          Consent provided           Web           2024-07-16   \n",
       "3      Consent not provided           Web           2024-03-19   \n",
       "4      Consent not provided           Web           2024-06-17   \n",
       "\n",
       "      company_response_to_consumer  timely_response  complaint_id year_month  \n",
       "0  Closed with non-monetary relief                1       9095672    2024-05  \n",
       "1                      In progress                1      10100450    2024-09  \n",
       "2          Closed with explanation                1       9519835    2024-07  \n",
       "3          Closed with explanation                1       8563486    2024-03  \n",
       "4          Closed with explanation                1       9283081    2024-06  "
      ]
     },
     "execution_count": 7,
     "metadata": {},
     "output_type": "execute_result"
    }
   ],
   "source": [
    "df.head()"
   ]
  },
  {
   "cell_type": "code",
   "execution_count": 11,
   "metadata": {},
   "outputs": [],
   "source": [
    "# filter out those rows where consumer complaints narratives are not missing\n",
    "df_complaint_narrative = df[df['consumer_complaint_narrative'] != 'No Narrative']['consumer_complaint_narrative']"
   ]
  },
  {
   "cell_type": "code",
   "execution_count": 12,
   "metadata": {},
   "outputs": [
    {
     "data": {
      "text/plain": [
       "(33681,)"
      ]
     },
     "execution_count": 12,
     "metadata": {},
     "output_type": "execute_result"
    }
   ],
   "source": [
    "df_complaint_narrative.shape"
   ]
  },
  {
   "cell_type": "code",
   "execution_count": 22,
   "metadata": {},
   "outputs": [
    {
     "name": "stdout",
     "output_type": "stream",
     "text": [
      "Background - I wanted to report about a fraud by \" XXXX XXXX '', Director of XXXX XXXX XXXX ; who has defrauded a number of individuals across the world. My family is also a victim of the Wire Fraud and have lost a significantamount of money approx. {$300000.00}, our hard earned savings of life. XXXX XXXX used to operateprimarily from XXXX and had an LLC registered in the US - \" XXXX XXXX XXXX '' and in XXXX XXXX XXXX as \" XXXX XXXX XXXX XXXX. The XXXX entity is registered under the first degree relative of XXXX XXXX for tax avoidance purposes. XXXX XXXX and the XXXX LLC have defrauded a number of innocent people across countries primarily in XXXX, XXXX, XXXX and the XXXX. The total fraud runs in XXXXXXXX XXXX XXXXof dollars. He has number of civil and criminal cases filed against him in XXXX and US and is absconding from XXXX since then Documentation and Proofs : XXXX. Receiptsof transfer of money ( online bank transfer ) I have raised several complaints for the wire recall by BOA but no response has been received.\n"
     ]
    }
   ],
   "source": [
    "print(df_complaint_narrative.iloc[0])"
   ]
  },
  {
   "cell_type": "code",
   "execution_count": 23,
   "metadata": {},
   "outputs": [
    {
     "name": "stdout",
     "output_type": "stream",
     "text": [
      "YOUR COMPLAINT On XX/XX/XXXX, I attempted to withdraw funds from a BofA at a different location than our home bank. The ATM declined to release funds, citing suspicious activity. I am unaware of anyone else relieving the BofA of my funds at the time. I called to have the hold lifted, by phone to no avail. I then made numerous attempts both by phone and by entering the local BofA. Each time I was unable to straighten this out. The people from the bank would not help at all. They wanted the payee to come in. I showed a police report of a XXXX XXXX XXXX XXXX XXXX XXXX XXXX XXXX. He is not capable of leaving the place, because he is XXXX XXXX XXXX XXXX XXXXXXXX XXXX XXXX XXXX XXXX XXXX XXXX XXXX XXXX and he has XXXX which i was told by his dr that he will never leave where he is because of the XXXX XXXX XXXX XXXX XXXX XXXX. So now, not only he can't travel, but neither can he XXXX. Recently had a XXXX XXXX XXXX XXXX XXXX XXXX XXXX XXXX. After numerous attempts to withdraw my funds, I am about to lose my vehicle ( impounded ) nor am I able to pay rent, utilities, non food items, etc. so on XX/XX/XXXX, I entered the bank to demand they give me my money, then was told I had XXXX in my account. It should have been $ XXXX. When requesting to see last 10 transactions, the teller refused and despite being told of my brother 's demise. Instead of assisting me, they give away my money. This is blatant discrimination. I have no money, i am XXXX and XXXX. They are costing me my car. They need to pay for this mis treatment. I'll find out their names, only if they be reprimanded for how XXXX being treated. I hope they feel the impact that I feel. Filed complaint earlier threw you guys that was closed because you guys said they responded to me but have not received anything from them want to reopen case get something done for me please\n"
     ]
    }
   ],
   "source": [
    "print(df_complaint_narrative.iloc[1])"
   ]
  },
  {
   "cell_type": "code",
   "execution_count": null,
   "metadata": {},
   "outputs": [],
   "source": []
  }
 ],
 "metadata": {
  "kernelspec": {
   "display_name": "base",
   "language": "python",
   "name": "python3"
  },
  "language_info": {
   "codemirror_mode": {
    "name": "ipython",
    "version": 3
   },
   "file_extension": ".py",
   "mimetype": "text/x-python",
   "name": "python",
   "nbconvert_exporter": "python",
   "pygments_lexer": "ipython3",
   "version": "3.11.4"
  }
 },
 "nbformat": 4,
 "nbformat_minor": 2
}
