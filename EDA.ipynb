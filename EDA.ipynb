{
 "cells": [
  {
   "cell_type": "code",
   "execution_count": 81,
   "metadata": {},
   "outputs": [],
   "source": [
    "import pandas as pd\n",
    "import numpy as np\n",
    "import matplotlib.pyplot as plt\n",
    "from tabulate import tabulate"
   ]
  },
  {
   "cell_type": "markdown",
   "metadata": {},
   "source": [
    "### 1 Descriptive Statistics"
   ]
  },
  {
   "cell_type": "code",
   "execution_count": 82,
   "metadata": {},
   "outputs": [
    {
     "ename": "FileNotFoundError",
     "evalue": "[Errno 2] No such file or directory: 'data/complaints_2018-01-01_2024-09-27_BOA.csv'",
     "output_type": "error",
     "traceback": [
      "\u001b[0;31m---------------------------------------------------------------------------\u001b[0m",
      "\u001b[0;31mFileNotFoundError\u001b[0m                         Traceback (most recent call last)",
      "Cell \u001b[0;32mIn[82], line 1\u001b[0m\n\u001b[0;32m----> 1\u001b[0m df \u001b[38;5;241m=\u001b[39m \u001b[43mpd\u001b[49m\u001b[38;5;241;43m.\u001b[39;49m\u001b[43mread_csv\u001b[49m\u001b[43m(\u001b[49m\u001b[38;5;124;43m\"\u001b[39;49m\u001b[38;5;124;43mdata/complaints_2018-01-01_2024-09-27_BOA.csv\u001b[39;49m\u001b[38;5;124;43m\"\u001b[39;49m\u001b[43m)\u001b[49m\n",
      "File \u001b[0;32m~/miniconda3/lib/python3.11/site-packages/pandas/io/parsers/readers.py:1026\u001b[0m, in \u001b[0;36mread_csv\u001b[0;34m(filepath_or_buffer, sep, delimiter, header, names, index_col, usecols, dtype, engine, converters, true_values, false_values, skipinitialspace, skiprows, skipfooter, nrows, na_values, keep_default_na, na_filter, verbose, skip_blank_lines, parse_dates, infer_datetime_format, keep_date_col, date_parser, date_format, dayfirst, cache_dates, iterator, chunksize, compression, thousands, decimal, lineterminator, quotechar, quoting, doublequote, escapechar, comment, encoding, encoding_errors, dialect, on_bad_lines, delim_whitespace, low_memory, memory_map, float_precision, storage_options, dtype_backend)\u001b[0m\n\u001b[1;32m   1013\u001b[0m kwds_defaults \u001b[38;5;241m=\u001b[39m _refine_defaults_read(\n\u001b[1;32m   1014\u001b[0m     dialect,\n\u001b[1;32m   1015\u001b[0m     delimiter,\n\u001b[0;32m   (...)\u001b[0m\n\u001b[1;32m   1022\u001b[0m     dtype_backend\u001b[38;5;241m=\u001b[39mdtype_backend,\n\u001b[1;32m   1023\u001b[0m )\n\u001b[1;32m   1024\u001b[0m kwds\u001b[38;5;241m.\u001b[39mupdate(kwds_defaults)\n\u001b[0;32m-> 1026\u001b[0m \u001b[38;5;28;01mreturn\u001b[39;00m \u001b[43m_read\u001b[49m\u001b[43m(\u001b[49m\u001b[43mfilepath_or_buffer\u001b[49m\u001b[43m,\u001b[49m\u001b[43m \u001b[49m\u001b[43mkwds\u001b[49m\u001b[43m)\u001b[49m\n",
      "File \u001b[0;32m~/miniconda3/lib/python3.11/site-packages/pandas/io/parsers/readers.py:620\u001b[0m, in \u001b[0;36m_read\u001b[0;34m(filepath_or_buffer, kwds)\u001b[0m\n\u001b[1;32m    617\u001b[0m _validate_names(kwds\u001b[38;5;241m.\u001b[39mget(\u001b[38;5;124m\"\u001b[39m\u001b[38;5;124mnames\u001b[39m\u001b[38;5;124m\"\u001b[39m, \u001b[38;5;28;01mNone\u001b[39;00m))\n\u001b[1;32m    619\u001b[0m \u001b[38;5;66;03m# Create the parser.\u001b[39;00m\n\u001b[0;32m--> 620\u001b[0m parser \u001b[38;5;241m=\u001b[39m \u001b[43mTextFileReader\u001b[49m\u001b[43m(\u001b[49m\u001b[43mfilepath_or_buffer\u001b[49m\u001b[43m,\u001b[49m\u001b[43m \u001b[49m\u001b[38;5;241;43m*\u001b[39;49m\u001b[38;5;241;43m*\u001b[39;49m\u001b[43mkwds\u001b[49m\u001b[43m)\u001b[49m\n\u001b[1;32m    622\u001b[0m \u001b[38;5;28;01mif\u001b[39;00m chunksize \u001b[38;5;129;01mor\u001b[39;00m iterator:\n\u001b[1;32m    623\u001b[0m     \u001b[38;5;28;01mreturn\u001b[39;00m parser\n",
      "File \u001b[0;32m~/miniconda3/lib/python3.11/site-packages/pandas/io/parsers/readers.py:1620\u001b[0m, in \u001b[0;36mTextFileReader.__init__\u001b[0;34m(self, f, engine, **kwds)\u001b[0m\n\u001b[1;32m   1617\u001b[0m     \u001b[38;5;28mself\u001b[39m\u001b[38;5;241m.\u001b[39moptions[\u001b[38;5;124m\"\u001b[39m\u001b[38;5;124mhas_index_names\u001b[39m\u001b[38;5;124m\"\u001b[39m] \u001b[38;5;241m=\u001b[39m kwds[\u001b[38;5;124m\"\u001b[39m\u001b[38;5;124mhas_index_names\u001b[39m\u001b[38;5;124m\"\u001b[39m]\n\u001b[1;32m   1619\u001b[0m \u001b[38;5;28mself\u001b[39m\u001b[38;5;241m.\u001b[39mhandles: IOHandles \u001b[38;5;241m|\u001b[39m \u001b[38;5;28;01mNone\u001b[39;00m \u001b[38;5;241m=\u001b[39m \u001b[38;5;28;01mNone\u001b[39;00m\n\u001b[0;32m-> 1620\u001b[0m \u001b[38;5;28mself\u001b[39m\u001b[38;5;241m.\u001b[39m_engine \u001b[38;5;241m=\u001b[39m \u001b[38;5;28;43mself\u001b[39;49m\u001b[38;5;241;43m.\u001b[39;49m\u001b[43m_make_engine\u001b[49m\u001b[43m(\u001b[49m\u001b[43mf\u001b[49m\u001b[43m,\u001b[49m\u001b[43m \u001b[49m\u001b[38;5;28;43mself\u001b[39;49m\u001b[38;5;241;43m.\u001b[39;49m\u001b[43mengine\u001b[49m\u001b[43m)\u001b[49m\n",
      "File \u001b[0;32m~/miniconda3/lib/python3.11/site-packages/pandas/io/parsers/readers.py:1880\u001b[0m, in \u001b[0;36mTextFileReader._make_engine\u001b[0;34m(self, f, engine)\u001b[0m\n\u001b[1;32m   1878\u001b[0m     \u001b[38;5;28;01mif\u001b[39;00m \u001b[38;5;124m\"\u001b[39m\u001b[38;5;124mb\u001b[39m\u001b[38;5;124m\"\u001b[39m \u001b[38;5;129;01mnot\u001b[39;00m \u001b[38;5;129;01min\u001b[39;00m mode:\n\u001b[1;32m   1879\u001b[0m         mode \u001b[38;5;241m+\u001b[39m\u001b[38;5;241m=\u001b[39m \u001b[38;5;124m\"\u001b[39m\u001b[38;5;124mb\u001b[39m\u001b[38;5;124m\"\u001b[39m\n\u001b[0;32m-> 1880\u001b[0m \u001b[38;5;28mself\u001b[39m\u001b[38;5;241m.\u001b[39mhandles \u001b[38;5;241m=\u001b[39m \u001b[43mget_handle\u001b[49m\u001b[43m(\u001b[49m\n\u001b[1;32m   1881\u001b[0m \u001b[43m    \u001b[49m\u001b[43mf\u001b[49m\u001b[43m,\u001b[49m\n\u001b[1;32m   1882\u001b[0m \u001b[43m    \u001b[49m\u001b[43mmode\u001b[49m\u001b[43m,\u001b[49m\n\u001b[1;32m   1883\u001b[0m \u001b[43m    \u001b[49m\u001b[43mencoding\u001b[49m\u001b[38;5;241;43m=\u001b[39;49m\u001b[38;5;28;43mself\u001b[39;49m\u001b[38;5;241;43m.\u001b[39;49m\u001b[43moptions\u001b[49m\u001b[38;5;241;43m.\u001b[39;49m\u001b[43mget\u001b[49m\u001b[43m(\u001b[49m\u001b[38;5;124;43m\"\u001b[39;49m\u001b[38;5;124;43mencoding\u001b[39;49m\u001b[38;5;124;43m\"\u001b[39;49m\u001b[43m,\u001b[49m\u001b[43m \u001b[49m\u001b[38;5;28;43;01mNone\u001b[39;49;00m\u001b[43m)\u001b[49m\u001b[43m,\u001b[49m\n\u001b[1;32m   1884\u001b[0m \u001b[43m    \u001b[49m\u001b[43mcompression\u001b[49m\u001b[38;5;241;43m=\u001b[39;49m\u001b[38;5;28;43mself\u001b[39;49m\u001b[38;5;241;43m.\u001b[39;49m\u001b[43moptions\u001b[49m\u001b[38;5;241;43m.\u001b[39;49m\u001b[43mget\u001b[49m\u001b[43m(\u001b[49m\u001b[38;5;124;43m\"\u001b[39;49m\u001b[38;5;124;43mcompression\u001b[39;49m\u001b[38;5;124;43m\"\u001b[39;49m\u001b[43m,\u001b[49m\u001b[43m \u001b[49m\u001b[38;5;28;43;01mNone\u001b[39;49;00m\u001b[43m)\u001b[49m\u001b[43m,\u001b[49m\n\u001b[1;32m   1885\u001b[0m \u001b[43m    \u001b[49m\u001b[43mmemory_map\u001b[49m\u001b[38;5;241;43m=\u001b[39;49m\u001b[38;5;28;43mself\u001b[39;49m\u001b[38;5;241;43m.\u001b[39;49m\u001b[43moptions\u001b[49m\u001b[38;5;241;43m.\u001b[39;49m\u001b[43mget\u001b[49m\u001b[43m(\u001b[49m\u001b[38;5;124;43m\"\u001b[39;49m\u001b[38;5;124;43mmemory_map\u001b[39;49m\u001b[38;5;124;43m\"\u001b[39;49m\u001b[43m,\u001b[49m\u001b[43m \u001b[49m\u001b[38;5;28;43;01mFalse\u001b[39;49;00m\u001b[43m)\u001b[49m\u001b[43m,\u001b[49m\n\u001b[1;32m   1886\u001b[0m \u001b[43m    \u001b[49m\u001b[43mis_text\u001b[49m\u001b[38;5;241;43m=\u001b[39;49m\u001b[43mis_text\u001b[49m\u001b[43m,\u001b[49m\n\u001b[1;32m   1887\u001b[0m \u001b[43m    \u001b[49m\u001b[43merrors\u001b[49m\u001b[38;5;241;43m=\u001b[39;49m\u001b[38;5;28;43mself\u001b[39;49m\u001b[38;5;241;43m.\u001b[39;49m\u001b[43moptions\u001b[49m\u001b[38;5;241;43m.\u001b[39;49m\u001b[43mget\u001b[49m\u001b[43m(\u001b[49m\u001b[38;5;124;43m\"\u001b[39;49m\u001b[38;5;124;43mencoding_errors\u001b[39;49m\u001b[38;5;124;43m\"\u001b[39;49m\u001b[43m,\u001b[49m\u001b[43m \u001b[49m\u001b[38;5;124;43m\"\u001b[39;49m\u001b[38;5;124;43mstrict\u001b[39;49m\u001b[38;5;124;43m\"\u001b[39;49m\u001b[43m)\u001b[49m\u001b[43m,\u001b[49m\n\u001b[1;32m   1888\u001b[0m \u001b[43m    \u001b[49m\u001b[43mstorage_options\u001b[49m\u001b[38;5;241;43m=\u001b[39;49m\u001b[38;5;28;43mself\u001b[39;49m\u001b[38;5;241;43m.\u001b[39;49m\u001b[43moptions\u001b[49m\u001b[38;5;241;43m.\u001b[39;49m\u001b[43mget\u001b[49m\u001b[43m(\u001b[49m\u001b[38;5;124;43m\"\u001b[39;49m\u001b[38;5;124;43mstorage_options\u001b[39;49m\u001b[38;5;124;43m\"\u001b[39;49m\u001b[43m,\u001b[49m\u001b[43m \u001b[49m\u001b[38;5;28;43;01mNone\u001b[39;49;00m\u001b[43m)\u001b[49m\u001b[43m,\u001b[49m\n\u001b[1;32m   1889\u001b[0m \u001b[43m\u001b[49m\u001b[43m)\u001b[49m\n\u001b[1;32m   1890\u001b[0m \u001b[38;5;28;01massert\u001b[39;00m \u001b[38;5;28mself\u001b[39m\u001b[38;5;241m.\u001b[39mhandles \u001b[38;5;129;01mis\u001b[39;00m \u001b[38;5;129;01mnot\u001b[39;00m \u001b[38;5;28;01mNone\u001b[39;00m\n\u001b[1;32m   1891\u001b[0m f \u001b[38;5;241m=\u001b[39m \u001b[38;5;28mself\u001b[39m\u001b[38;5;241m.\u001b[39mhandles\u001b[38;5;241m.\u001b[39mhandle\n",
      "File \u001b[0;32m~/miniconda3/lib/python3.11/site-packages/pandas/io/common.py:873\u001b[0m, in \u001b[0;36mget_handle\u001b[0;34m(path_or_buf, mode, encoding, compression, memory_map, is_text, errors, storage_options)\u001b[0m\n\u001b[1;32m    868\u001b[0m \u001b[38;5;28;01melif\u001b[39;00m \u001b[38;5;28misinstance\u001b[39m(handle, \u001b[38;5;28mstr\u001b[39m):\n\u001b[1;32m    869\u001b[0m     \u001b[38;5;66;03m# Check whether the filename is to be opened in binary mode.\u001b[39;00m\n\u001b[1;32m    870\u001b[0m     \u001b[38;5;66;03m# Binary mode does not support 'encoding' and 'newline'.\u001b[39;00m\n\u001b[1;32m    871\u001b[0m     \u001b[38;5;28;01mif\u001b[39;00m ioargs\u001b[38;5;241m.\u001b[39mencoding \u001b[38;5;129;01mand\u001b[39;00m \u001b[38;5;124m\"\u001b[39m\u001b[38;5;124mb\u001b[39m\u001b[38;5;124m\"\u001b[39m \u001b[38;5;129;01mnot\u001b[39;00m \u001b[38;5;129;01min\u001b[39;00m ioargs\u001b[38;5;241m.\u001b[39mmode:\n\u001b[1;32m    872\u001b[0m         \u001b[38;5;66;03m# Encoding\u001b[39;00m\n\u001b[0;32m--> 873\u001b[0m         handle \u001b[38;5;241m=\u001b[39m \u001b[38;5;28mopen\u001b[39m(\n\u001b[1;32m    874\u001b[0m             handle,\n\u001b[1;32m    875\u001b[0m             ioargs\u001b[38;5;241m.\u001b[39mmode,\n\u001b[1;32m    876\u001b[0m             encoding\u001b[38;5;241m=\u001b[39mioargs\u001b[38;5;241m.\u001b[39mencoding,\n\u001b[1;32m    877\u001b[0m             errors\u001b[38;5;241m=\u001b[39merrors,\n\u001b[1;32m    878\u001b[0m             newline\u001b[38;5;241m=\u001b[39m\u001b[38;5;124m\"\u001b[39m\u001b[38;5;124m\"\u001b[39m,\n\u001b[1;32m    879\u001b[0m         )\n\u001b[1;32m    880\u001b[0m     \u001b[38;5;28;01melse\u001b[39;00m:\n\u001b[1;32m    881\u001b[0m         \u001b[38;5;66;03m# Binary mode\u001b[39;00m\n\u001b[1;32m    882\u001b[0m         handle \u001b[38;5;241m=\u001b[39m \u001b[38;5;28mopen\u001b[39m(handle, ioargs\u001b[38;5;241m.\u001b[39mmode)\n",
      "\u001b[0;31mFileNotFoundError\u001b[0m: [Errno 2] No such file or directory: 'data/complaints_2018-01-01_2024-09-27_BOA.csv'"
     ]
    }
   ],
   "source": [
    "df = pd.read_csv(\"data/complaints_2018-01-01_2024-09-27_BOA.csv\")"
   ]
  },
  {
   "cell_type": "code",
   "execution_count": null,
   "metadata": {},
   "outputs": [
    {
     "data": {
      "text/html": [
       "<div>\n",
       "<style scoped>\n",
       "    .dataframe tbody tr th:only-of-type {\n",
       "        vertical-align: middle;\n",
       "    }\n",
       "\n",
       "    .dataframe tbody tr th {\n",
       "        vertical-align: top;\n",
       "    }\n",
       "\n",
       "    .dataframe thead th {\n",
       "        text-align: right;\n",
       "    }\n",
       "</style>\n",
       "<table border=\"1\" class=\"dataframe\">\n",
       "  <thead>\n",
       "    <tr style=\"text-align: right;\">\n",
       "      <th></th>\n",
       "      <th>Date received</th>\n",
       "      <th>Product</th>\n",
       "      <th>Sub-product</th>\n",
       "      <th>Issue</th>\n",
       "      <th>Sub-issue</th>\n",
       "      <th>Consumer complaint narrative</th>\n",
       "      <th>Company public response</th>\n",
       "      <th>Company</th>\n",
       "      <th>State</th>\n",
       "      <th>ZIP code</th>\n",
       "      <th>Tags</th>\n",
       "      <th>Consumer consent provided?</th>\n",
       "      <th>Submitted via</th>\n",
       "      <th>Date sent to company</th>\n",
       "      <th>Company response to consumer</th>\n",
       "      <th>Timely response?</th>\n",
       "      <th>Consumer disputed?</th>\n",
       "      <th>Complaint ID</th>\n",
       "    </tr>\n",
       "  </thead>\n",
       "  <tbody>\n",
       "    <tr>\n",
       "      <th>0</th>\n",
       "      <td>05/24/24</td>\n",
       "      <td>Vehicle loan or lease</td>\n",
       "      <td>Loan</td>\n",
       "      <td>Problems at the end of the loan or lease</td>\n",
       "      <td>Unable to receive car title or other problem a...</td>\n",
       "      <td>NaN</td>\n",
       "      <td>Company has responded to the consumer and the ...</td>\n",
       "      <td>BANK OF AMERICA, NATIONAL ASSOCIATION</td>\n",
       "      <td>FL</td>\n",
       "      <td>32835</td>\n",
       "      <td>NaN</td>\n",
       "      <td>Consent not provided</td>\n",
       "      <td>Web</td>\n",
       "      <td>05/25/24</td>\n",
       "      <td>Closed with non-monetary relief</td>\n",
       "      <td>Yes</td>\n",
       "      <td>NaN</td>\n",
       "      <td>9095672</td>\n",
       "    </tr>\n",
       "    <tr>\n",
       "      <th>1</th>\n",
       "      <td>09/12/24</td>\n",
       "      <td>Checking or savings account</td>\n",
       "      <td>Checking account</td>\n",
       "      <td>Opening an account</td>\n",
       "      <td>Unable to open an account</td>\n",
       "      <td>NaN</td>\n",
       "      <td>NaN</td>\n",
       "      <td>BANK OF AMERICA, NATIONAL ASSOCIATION</td>\n",
       "      <td>NY</td>\n",
       "      <td>11691</td>\n",
       "      <td>NaN</td>\n",
       "      <td>NaN</td>\n",
       "      <td>Phone</td>\n",
       "      <td>09/12/24</td>\n",
       "      <td>In progress</td>\n",
       "      <td>Yes</td>\n",
       "      <td>NaN</td>\n",
       "      <td>10100450</td>\n",
       "    </tr>\n",
       "    <tr>\n",
       "      <th>2</th>\n",
       "      <td>07/16/24</td>\n",
       "      <td>Money transfer, virtual currency, or money ser...</td>\n",
       "      <td>Domestic (US) money transfer</td>\n",
       "      <td>Fraud or scam</td>\n",
       "      <td>NaN</td>\n",
       "      <td>Background - I wanted to report about a fraud ...</td>\n",
       "      <td>Company has responded to the consumer and the ...</td>\n",
       "      <td>BANK OF AMERICA, NATIONAL ASSOCIATION</td>\n",
       "      <td>NJ</td>\n",
       "      <td>07302</td>\n",
       "      <td>NaN</td>\n",
       "      <td>Consent provided</td>\n",
       "      <td>Web</td>\n",
       "      <td>07/16/24</td>\n",
       "      <td>Closed with explanation</td>\n",
       "      <td>Yes</td>\n",
       "      <td>NaN</td>\n",
       "      <td>9519835</td>\n",
       "    </tr>\n",
       "    <tr>\n",
       "      <th>3</th>\n",
       "      <td>03/17/24</td>\n",
       "      <td>Prepaid card</td>\n",
       "      <td>General-purpose prepaid card</td>\n",
       "      <td>Unexpected or other fees</td>\n",
       "      <td>NaN</td>\n",
       "      <td>NaN</td>\n",
       "      <td>Company has responded to the consumer and the ...</td>\n",
       "      <td>BANK OF AMERICA, NATIONAL ASSOCIATION</td>\n",
       "      <td>CA</td>\n",
       "      <td>92410</td>\n",
       "      <td>NaN</td>\n",
       "      <td>Consent not provided</td>\n",
       "      <td>Web</td>\n",
       "      <td>03/19/24</td>\n",
       "      <td>Closed with explanation</td>\n",
       "      <td>Yes</td>\n",
       "      <td>NaN</td>\n",
       "      <td>8563486</td>\n",
       "    </tr>\n",
       "    <tr>\n",
       "      <th>4</th>\n",
       "      <td>06/17/24</td>\n",
       "      <td>Checking or savings account</td>\n",
       "      <td>Checking account</td>\n",
       "      <td>Problem with a lender or other company chargin...</td>\n",
       "      <td>Transaction was not authorized</td>\n",
       "      <td>NaN</td>\n",
       "      <td>Company has responded to the consumer and the ...</td>\n",
       "      <td>BANK OF AMERICA, NATIONAL ASSOCIATION</td>\n",
       "      <td>CA</td>\n",
       "      <td>92104</td>\n",
       "      <td>NaN</td>\n",
       "      <td>Consent not provided</td>\n",
       "      <td>Web</td>\n",
       "      <td>06/17/24</td>\n",
       "      <td>Closed with explanation</td>\n",
       "      <td>Yes</td>\n",
       "      <td>NaN</td>\n",
       "      <td>9283081</td>\n",
       "    </tr>\n",
       "  </tbody>\n",
       "</table>\n",
       "</div>"
      ],
      "text/plain": [
       "  Date received                                            Product  \\\n",
       "0      05/24/24                              Vehicle loan or lease   \n",
       "1      09/12/24                        Checking or savings account   \n",
       "2      07/16/24  Money transfer, virtual currency, or money ser...   \n",
       "3      03/17/24                                       Prepaid card   \n",
       "4      06/17/24                        Checking or savings account   \n",
       "\n",
       "                    Sub-product  \\\n",
       "0                          Loan   \n",
       "1              Checking account   \n",
       "2  Domestic (US) money transfer   \n",
       "3  General-purpose prepaid card   \n",
       "4              Checking account   \n",
       "\n",
       "                                               Issue  \\\n",
       "0           Problems at the end of the loan or lease   \n",
       "1                                 Opening an account   \n",
       "2                                      Fraud or scam   \n",
       "3                           Unexpected or other fees   \n",
       "4  Problem with a lender or other company chargin...   \n",
       "\n",
       "                                           Sub-issue  \\\n",
       "0  Unable to receive car title or other problem a...   \n",
       "1                          Unable to open an account   \n",
       "2                                                NaN   \n",
       "3                                                NaN   \n",
       "4                     Transaction was not authorized   \n",
       "\n",
       "                        Consumer complaint narrative  \\\n",
       "0                                                NaN   \n",
       "1                                                NaN   \n",
       "2  Background - I wanted to report about a fraud ...   \n",
       "3                                                NaN   \n",
       "4                                                NaN   \n",
       "\n",
       "                             Company public response  \\\n",
       "0  Company has responded to the consumer and the ...   \n",
       "1                                                NaN   \n",
       "2  Company has responded to the consumer and the ...   \n",
       "3  Company has responded to the consumer and the ...   \n",
       "4  Company has responded to the consumer and the ...   \n",
       "\n",
       "                                 Company State ZIP code Tags  \\\n",
       "0  BANK OF AMERICA, NATIONAL ASSOCIATION    FL    32835  NaN   \n",
       "1  BANK OF AMERICA, NATIONAL ASSOCIATION    NY    11691  NaN   \n",
       "2  BANK OF AMERICA, NATIONAL ASSOCIATION    NJ    07302  NaN   \n",
       "3  BANK OF AMERICA, NATIONAL ASSOCIATION    CA    92410  NaN   \n",
       "4  BANK OF AMERICA, NATIONAL ASSOCIATION    CA    92104  NaN   \n",
       "\n",
       "  Consumer consent provided? Submitted via Date sent to company  \\\n",
       "0       Consent not provided           Web             05/25/24   \n",
       "1                        NaN         Phone             09/12/24   \n",
       "2           Consent provided           Web             07/16/24   \n",
       "3       Consent not provided           Web             03/19/24   \n",
       "4       Consent not provided           Web             06/17/24   \n",
       "\n",
       "      Company response to consumer Timely response?  Consumer disputed?  \\\n",
       "0  Closed with non-monetary relief              Yes                 NaN   \n",
       "1                      In progress              Yes                 NaN   \n",
       "2          Closed with explanation              Yes                 NaN   \n",
       "3          Closed with explanation              Yes                 NaN   \n",
       "4          Closed with explanation              Yes                 NaN   \n",
       "\n",
       "   Complaint ID  \n",
       "0       9095672  \n",
       "1      10100450  \n",
       "2       9519835  \n",
       "3       8563486  \n",
       "4       9283081  "
      ]
     },
     "execution_count": 68,
     "metadata": {},
     "output_type": "execute_result"
    }
   ],
   "source": [
    "df.head()"
   ]
  },
  {
   "cell_type": "code",
   "execution_count": null,
   "metadata": {},
   "outputs": [
    {
     "name": "stdout",
     "output_type": "stream",
     "text": [
      "<class 'pandas.core.frame.DataFrame'>\n",
      "RangeIndex: 73845 entries, 0 to 73844\n",
      "Data columns (total 18 columns):\n",
      " #   Column                        Non-Null Count  Dtype  \n",
      "---  ------                        --------------  -----  \n",
      " 0   Date received                 73845 non-null  object \n",
      " 1   Product                       73845 non-null  object \n",
      " 2   Sub-product                   73837 non-null  object \n",
      " 3   Issue                         73844 non-null  object \n",
      " 4   Sub-issue                     62803 non-null  object \n",
      " 5   Consumer complaint narrative  33681 non-null  object \n",
      " 6   Company public response       71777 non-null  object \n",
      " 7   Company                       73845 non-null  object \n",
      " 8   State                         71926 non-null  object \n",
      " 9   ZIP code                      72474 non-null  object \n",
      " 10  Tags                          10897 non-null  object \n",
      " 11  Consumer consent provided?    54177 non-null  object \n",
      " 12  Submitted via                 73845 non-null  object \n",
      " 13  Date sent to company          73845 non-null  object \n",
      " 14  Company response to consumer  73845 non-null  object \n",
      " 15  Timely response?              73845 non-null  object \n",
      " 16  Consumer disputed?            0 non-null      float64\n",
      " 17  Complaint ID                  73845 non-null  int64  \n",
      "dtypes: float64(1), int64(1), object(16)\n",
      "memory usage: 10.1+ MB\n"
     ]
    }
   ],
   "source": [
    "df.info()"
   ]
  },
  {
   "cell_type": "markdown",
   "metadata": {},
   "source": [
    "'date_received' and 'date_sent_to_company' should be in datatime format instead of object"
   ]
  },
  {
   "cell_type": "code",
   "execution_count": null,
   "metadata": {},
   "outputs": [
    {
     "data": {
      "text/plain": [
       "(73845, 18)"
      ]
     },
     "execution_count": 70,
     "metadata": {},
     "output_type": "execute_result"
    }
   ],
   "source": [
    "df.shape"
   ]
  },
  {
   "cell_type": "code",
   "execution_count": null,
   "metadata": {},
   "outputs": [
    {
     "data": {
      "text/plain": [
       "Date received                    2459\n",
       "Product                            14\n",
       "Sub-product                        53\n",
       "Issue                              85\n",
       "Sub-issue                         192\n",
       "Consumer complaint narrative    33318\n",
       "Company public response             6\n",
       "Company                             1\n",
       "State                              59\n",
       "ZIP code                        10788\n",
       "Tags                                3\n",
       "Consumer consent provided?          4\n",
       "Submitted via                       7\n",
       "Date sent to company             2457\n",
       "Company response to consumer        5\n",
       "Timely response?                    2\n",
       "Consumer disputed?                  0\n",
       "Complaint ID                    73845\n",
       "dtype: int64"
      ]
     },
     "execution_count": 71,
     "metadata": {},
     "output_type": "execute_result"
    }
   ],
   "source": [
    "df.nunique()"
   ]
  },
  {
   "cell_type": "code",
   "execution_count": null,
   "metadata": {},
   "outputs": [
    {
     "data": {
      "text/plain": [
       "Date received                       0\n",
       "Product                             0\n",
       "Sub-product                         8\n",
       "Issue                               1\n",
       "Sub-issue                       11042\n",
       "Consumer complaint narrative    40164\n",
       "Company public response          2068\n",
       "Company                             0\n",
       "State                            1919\n",
       "ZIP code                         1371\n",
       "Tags                            62948\n",
       "Consumer consent provided?      19668\n",
       "Submitted via                       0\n",
       "Date sent to company                0\n",
       "Company response to consumer        0\n",
       "Timely response?                    0\n",
       "Consumer disputed?              73845\n",
       "Complaint ID                        0\n",
       "dtype: int64"
      ]
     },
     "execution_count": 72,
     "metadata": {},
     "output_type": "execute_result"
    }
   ],
   "source": [
    "df.isna().sum()"
   ]
  },
  {
   "cell_type": "code",
   "execution_count": null,
   "metadata": {},
   "outputs": [
    {
     "data": {
      "text/plain": [
       "0"
      ]
     },
     "execution_count": 73,
     "metadata": {},
     "output_type": "execute_result"
    }
   ],
   "source": [
    "df.duplicated().sum()"
   ]
  },
  {
   "cell_type": "code",
   "execution_count": null,
   "metadata": {},
   "outputs": [],
   "source": [
    "missing_percentage = round((df.isna().sum()/len(df)*100),2).sort_values(ascending=False)"
   ]
  },
  {
   "cell_type": "code",
   "execution_count": null,
   "metadata": {},
   "outputs": [
    {
     "data": {
      "text/plain": [
       "Text(0.5, 1.0, 'Percentage of missing values in each variable')"
      ]
     },
     "execution_count": 75,
     "metadata": {},
     "output_type": "execute_result"
    },
    {
     "data": {
      "image/png": "[encoded data removed]",
      "text/plain": [
       "<Figure size 800x800 with 1 Axes>"
      ]
     },
     "metadata": {},
     "output_type": "display_data"
    }
   ],
   "source": [
    "# Graph showing the percentage of missing data\n",
    "plt.figure(figsize=(8,8))\n",
    "missing_percentage.plot(kind='barh')\n",
    "plt.xlabel('Percentage of missing data')\n",
    "plt.ylabel('Variables')\n",
    "plt.title('Percentage of missing values in each variable')"
   ]
  },
  {
   "cell_type": "code",
   "execution_count": null,
   "metadata": {},
   "outputs": [
    {
     "data": {
      "text/plain": [
       "array(['Vehicle loan or lease', 'Checking or savings account',\n",
       "       'Money transfer, virtual currency, or money service',\n",
       "       'Prepaid card', 'Credit card',\n",
       "       'Credit reporting or other personal consumer reports',\n",
       "       'Debt collection', 'Mortgage', 'Credit card or prepaid card',\n",
       "       'Payday loan, title loan, personal loan, or advance loan',\n",
       "       'Credit reporting, credit repair services, or other personal consumer reports',\n",
       "       'Debt or credit management',\n",
       "       'Payday loan, title loan, or personal loan', 'Student loan'],\n",
       "      dtype=object)"
      ]
     },
     "execution_count": 76,
     "metadata": {},
     "output_type": "execute_result"
    }
   ],
   "source": [
    "df['Product'].unique()"
   ]
  },
  {
   "cell_type": "code",
   "execution_count": null,
   "metadata": {},
   "outputs": [
    {
     "name": "stdout",
     "output_type": "stream",
     "text": [
      "number of unique values for \"Date received\" is 2459\n",
      "+----------+------------+\n",
      "|  Value   | Percentage |\n",
      "+----------+------------+\n",
      "| 07/12/23 |   0.25%    |\n",
      "| 07/13/23 |   0.20%    |\n",
      "| 07/11/23 |   0.15%    |\n",
      "| 07/14/23 |   0.14%    |\n",
      "| 07/15/23 |   0.11%    |\n",
      "| 07/17/23 |   0.10%    |\n",
      "| 04/27/23 |   0.10%    |\n",
      "| 04/05/18 |   0.09%    |\n",
      "| 07/18/23 |   0.09%    |\n",
      "| 09/05/24 |   0.09%    |\n",
      "+----------+------------+\n",
      "number of unique values for \"Product\" is 14\n",
      "+------------------------------------------------------------------------------+------------+\n",
      "|                                    Value                                     | Percentage |\n",
      "+------------------------------------------------------------------------------+------------+\n",
      "|                         Checking or savings account                          |   39.63%   |\n",
      "|                         Credit card or prepaid card                          |   21.12%   |\n",
      "| Credit reporting, credit repair services, or other personal consumer reports |   9.98%    |\n",
      "|                                   Mortgage                                   |   8.22%    |\n",
      "|              Money transfer, virtual currency, or money service              |   5.99%    |\n",
      "|                                 Credit card                                  |   4.61%    |\n",
      "|                               Debt collection                                |   4.01%    |\n",
      "|             Credit reporting or other personal consumer reports              |   3.88%    |\n",
      "|                            Vehicle loan or lease                             |   1.10%    |\n",
      "|                                 Prepaid card                                 |   0.89%    |\n",
      "+------------------------------------------------------------------------------+------------+\n",
      "number of unique values for \"Sub-product\" is 53\n",
      "+--------------------------------------------+------------+\n",
      "|                   Value                    | Percentage |\n",
      "+--------------------------------------------+------------+\n",
      "|              Checking account              |   33.34%   |\n",
      "| General-purpose credit card or charge card |   21.76%   |\n",
      "|              Credit reporting              |   13.30%   |\n",
      "|         Conventional home mortgage         |   4.95%    |\n",
      "|          Government benefit card           |   4.24%    |\n",
      "|      Other banking product or service      |   3.82%    |\n",
      "|        Domestic (US) money transfer        |   2.98%    |\n",
      "|              Credit card debt              |   2.54%    |\n",
      "|              Savings account               |   2.05%    |\n",
      "| Home equity loan or line of credit (HELOC) |   1.42%    |\n",
      "+--------------------------------------------+------------+\n",
      "number of unique values for \"Issue\" is 85\n",
      "+--------------------------------------------------------------+------------+\n",
      "|                            Value                             | Percentage |\n",
      "+--------------------------------------------------------------+------------+\n",
      "|                     Managing an account                      |   24.06%   |\n",
      "|             Incorrect information on your report             |   7.99%    |\n",
      "|       Problem with a purchase shown on your statement        |   6.89%    |\n",
      "|                      Closing an account                      |   4.93%    |\n",
      "|                      Opening an account                      |   4.21%    |\n",
      "| Problem with a lender or other company charging your account |   4.10%    |\n",
      "|                 Improper use of your report                  |   3.76%    |\n",
      "|                Trouble during payment process                |   3.64%    |\n",
      "|                        Fraud or scam                         |   3.44%    |\n",
      "|                    Getting a credit card                     |   3.13%    |\n",
      "+--------------------------------------------------------------+------------+\n",
      "number of unique values for \"Sub-issue\" is 192\n",
      "+----------------------------------------------------------------------------------+------------+\n",
      "|                                      Value                                       | Percentage |\n",
      "+----------------------------------------------------------------------------------+------------+\n",
      "|                             Deposits and withdrawals                             |   10.50%   |\n",
      "|                        Problem using a debit or ATM card                         |   6.35%    |\n",
      "| Credit card company isn't resolving a dispute about a purchase on your statement |   5.14%    |\n",
      "|                       Information belongs to someone else                        |   4.61%    |\n",
      "|                           Company closed your account                            |   4.43%    |\n",
      "|                          Transaction was not authorized                          |   3.92%    |\n",
      "|                   Funds not handled or disbursed as instructed                   |   2.82%    |\n",
      "|        Card was charged for something you did not purchase with the card         |   2.76%    |\n",
      "|                                  Banking errors                                  |   2.74%    |\n",
      "|                       Account opened as a result of fraud                        |   2.43%    |\n",
      "+----------------------------------------------------------------------------------+------------+\n",
      "number of unique values for \"Consumer complaint narrative\" is 33318\n",
      "+----------------------------------------------------------------------------------------------------------------------------------------------------------------------------------------------------------------------------------------------------------------------------------------------------------------------------------------------------------------------------------------------------------------------------------------------------------------------------------------------------------------------------------------------------------------------------------------------------------------------------------------------------------------------------------------------------------------------------------------------------------------------------+------------+\n",
      "|                                                                                                                                                                                                                                                                                                                                                                                   Value                                                                                                                                                                                                                                                                                                                                                                                    | Percentage |\n",
      "+----------------------------------------------------------------------------------------------------------------------------------------------------------------------------------------------------------------------------------------------------------------------------------------------------------------------------------------------------------------------------------------------------------------------------------------------------------------------------------------------------------------------------------------------------------------------------------------------------------------------------------------------------------------------------------------------------------------------------------------------------------------------------+------------+\n",
      "|                                                                                                                                                            The existence of a derogatory rating on my account is causing me significant concern. I am deeply worried about its potential impact on my credit. It has already resulted in the denial of a recent loan application and an increase in the interest rates on my existing credit accounts. I want to emphasize the severe financial and emotional distress that this negative rating has caused me and will continue to cause until it is resolved.                                                                                                                                                            |   0.19%    |\n",
      "|                                                                                                                                                                                                                                            I am a victim of identity theft. The following accounts were opened without my knowledge, consent or authority. I have no idea how the theft took place, nor do I have knowledge of the suspects. I did not receive any money, goods, or services as a result of the identity theft.                                                                                                                                                                                                                                            |   0.10%    |\n",
      "|                                                                                                                                                                                                                                                                                             I have disputed this account and have reached out to the company/creditors MANY times but failed. This account is being reported inaccurately and incorrectly on my credit report.                                                                                                                                                                                                                                                                                             |   0.03%    |\n",
      "| I am a victim of identity theft. Due to the Corona Virus Pandemic, we are all facing which has me sitting still at home and I saw the recent news about the multiple XXXX  Data breaches. I decided to look at my credit reports from the 3 major credit bureaus and found that someone had used my Identity. I have no idea how the theft took place. I also have no knowledge of any suspects. I did not receive any money, goods, or services as a result of identity theft. I contacted the Credit Bureau and told me to file an Identity Theft Report which I am doing. I appreciate your effort in getting this matter resolved. Thank you. Please let me know if you need any other information from me to block this information from my credit report. Thank you. |   0.03%    |\n",
      "| I am a victim of identity theft. Due to the Corona Virus Pandemic, we are all facing which has me sitting still at home and I saw the recent news about the multiple XXXX Data breaches. I decided to look at my credit reports from the 3 major credit bureaus and found that someone had used my Identity. I have no idea how the theft took place. I also have no knowledge of any suspects. I did not receive any money, goods, or services as a result of identity theft. I contacted the Credit Bureau and told me to file an Identity Theft Report which I am doing. I appreciate your effort in getting this matter resolved. Thank you. Please let me know if you need any other information from me to block this information from my credit report. Thank you.  |   0.03%    |\n",
      "|                                                                                                                                                                 The presence of a derogatory rating on my account is deeply concerning to me. I am worried about the impact it may have on my credit, as it has already resulted in the denial of a recent loan application and an increase in the interest rates on my existing credit accounts. I want to emphasize the significant financial and emotional distress this negative rating has caused me and will continue to cause until it is resolved.                                                                                                                                                                 |   0.02%    |\n",
      "|                                                                                                                                                                 The presence of a derogatory rating on my account is causing me great concern. I am deeply worried about the impact it may have on my credit. It has already led to the denial of a recent loan application and an increase in the interest rates on my existing credit accounts. I want to emphasize the severe financial and emotional distress that this negative rating has caused me and will continue to cause until it is resolved.                                                                                                                                                                 |   0.02%    |\n",
      "|                                                                                                                                                                                                                                                                                                                                                           There are unauthorized businesses on my credit report.                                                                                                                                                                                                                                                                                                                                                           |   0.02%    |\n",
      "|                                                                                                                                                                                                                                                                                                       I have filed a dispute in regards to the incorrect items on my credit report. It has been well over 30 days and I haven't received any investigation results.                                                                                                                                                                                                                                                                                                        |   0.02%    |\n",
      "|                                                                                                                                                                                                                                                                                  Bank of America has violated 15 USC 1692 by continuing collection activity after a cease and desist and 15 USC 1681 by failing to report complete and accurate information to credit reporting bureaus.                                                                                                                                                                                                                                                                                   |   0.02%    |\n",
      "+----------------------------------------------------------------------------------------------------------------------------------------------------------------------------------------------------------------------------------------------------------------------------------------------------------------------------------------------------------------------------------------------------------------------------------------------------------------------------------------------------------------------------------------------------------------------------------------------------------------------------------------------------------------------------------------------------------------------------------------------------------------------------+------------+\n",
      "number of unique values for \"Company public response\" is 6\n",
      "+-------------------------------------------------------------------------------------------------------------------------+------------+\n",
      "|                                                          Value                                                          | Percentage |\n",
      "+-------------------------------------------------------------------------------------------------------------------------+------------+\n",
      "|             Company has responded to the consumer and the CFPB and chooses not to provide a public response             |   99.94%   |\n",
      "|                           Company believes the complaint is the result of a misunderstanding                            |   0.02%    |\n",
      "|                  Company believes the complaint provided an opportunity to answer consumer's questions                  |   0.02%    |\n",
      "|                        Company believes it acted appropriately as authorized by contract or law                         |   0.01%    |\n",
      "| Company believes complaint caused principally by actions of third party outside the control or direction of the company |   0.00%    |\n",
      "|                                  Company disputes the facts presented in the complaint                                  |   0.00%    |\n",
      "+-------------------------------------------------------------------------------------------------------------------------+------------+\n",
      "number of unique values for \"Company\" is 1\n",
      "+---------------------------------------+------------+\n",
      "|                 Value                 | Percentage |\n",
      "+---------------------------------------+------------+\n",
      "| BANK OF AMERICA, NATIONAL ASSOCIATION |  100.00%   |\n",
      "+---------------------------------------+------------+\n",
      "number of unique values for \"State\" is 59\n",
      "+-------+------------+\n",
      "| Value | Percentage |\n",
      "+-------+------------+\n",
      "|  CA   |   22.18%   |\n",
      "|  FL   |   10.68%   |\n",
      "|  TX   |   7.56%    |\n",
      "|  NY   |   7.09%    |\n",
      "|  GA   |   4.70%    |\n",
      "|  NJ   |   4.22%    |\n",
      "|  IL   |   3.62%    |\n",
      "|  MA   |   3.36%    |\n",
      "|  MD   |   2.99%    |\n",
      "|  PA   |   2.73%    |\n",
      "+-------+------------+\n",
      "number of unique values for \"ZIP code\" is 10788\n",
      "+-------+------------+\n",
      "| Value | Percentage |\n",
      "+-------+------------+\n",
      "| XXXXX |   3.95%    |\n",
      "| 02301 |   0.14%    |\n",
      "| 070XX |   0.13%    |\n",
      "| 331XX |   0.11%    |\n",
      "| 91205 |   0.11%    |\n",
      "| 076XX |   0.10%    |\n",
      "| 30349 |   0.10%    |\n",
      "| 902XX |   0.10%    |\n",
      "| 11235 |   0.10%    |\n",
      "| 90034 |   0.10%    |\n",
      "+-------+------------+\n",
      "number of unique values for \"Tags\" is 3\n",
      "+-------------------------------+------------+\n",
      "|             Value             | Percentage |\n",
      "+-------------------------------+------------+\n",
      "|        Older American         |   50.38%   |\n",
      "|         Servicemember         |   37.42%   |\n",
      "| Older American, Servicemember |   12.20%   |\n",
      "+-------------------------------+------------+\n",
      "number of unique values for \"Consumer consent provided?\" is 4\n",
      "+----------------------+------------+\n",
      "|        Value         | Percentage |\n",
      "+----------------------+------------+\n",
      "|   Consent provided   |   62.19%   |\n",
      "| Consent not provided |   34.82%   |\n",
      "|        Other         |   2.53%    |\n",
      "|  Consent withdrawn   |   0.46%    |\n",
      "+----------------------+------------+\n",
      "number of unique values for \"Submitted via\" is 7\n",
      "+--------------+------------+\n",
      "|    Value     | Percentage |\n",
      "+--------------+------------+\n",
      "|     Web      |   74.74%   |\n",
      "|   Referral   |   14.58%   |\n",
      "|    Phone     |   8.68%    |\n",
      "| Postal mail  |   1.63%    |\n",
      "|     Fax      |   0.25%    |\n",
      "| Web Referral |   0.12%    |\n",
      "|    Email     |   0.00%    |\n",
      "+--------------+------------+\n",
      "number of unique values for \"Date sent to company\" is 2457\n",
      "+----------+------------+\n",
      "|  Value   | Percentage |\n",
      "+----------+------------+\n",
      "| 07/12/23 |   0.25%    |\n",
      "| 07/13/23 |   0.20%    |\n",
      "| 07/11/23 |   0.15%    |\n",
      "| 07/14/23 |   0.13%    |\n",
      "| 08/08/23 |   0.12%    |\n",
      "| 08/05/21 |   0.11%    |\n",
      "| 05/02/23 |   0.11%    |\n",
      "| 07/17/23 |   0.11%    |\n",
      "| 07/15/23 |   0.10%    |\n",
      "| 12/11/20 |   0.10%    |\n",
      "+----------+------------+\n",
      "number of unique values for \"Company response to consumer\" is 5\n",
      "+---------------------------------+------------+\n",
      "|              Value              | Percentage |\n",
      "+---------------------------------+------------+\n",
      "|     Closed with explanation     |   65.46%   |\n",
      "|   Closed with monetary relief   |   24.25%   |\n",
      "| Closed with non-monetary relief |   8.39%    |\n",
      "|           In progress           |   1.89%    |\n",
      "|        Untimely response        |   0.01%    |\n",
      "+---------------------------------+------------+\n",
      "number of unique values for \"Timely response?\" is 2\n",
      "+-------+------------+\n",
      "| Value | Percentage |\n",
      "+-------+------------+\n",
      "|  Yes  |   96.54%   |\n",
      "|  No   |   3.46%    |\n",
      "+-------+------------+\n"
     ]
    }
   ],
   "source": [
    "for col in df.select_dtypes(include=['object']).columns.to_list():\n",
    "    num_unique = df[col].nunique()\n",
    "    print(f\"number of unique values for \\\"{col}\\\" is {num_unique}\")\n",
    "    \n",
    "    value_counts = df[col].value_counts(normalize=True).head(10)*100\n",
    "    data = []\n",
    "    for value, percentage in value_counts.items():\n",
    "        data.append([value, f\"{percentage:.2f}%\"])\n",
    "    headers = [\"Value\", \"Percentage\"]\n",
    "    print(tabulate(data, headers=headers, tablefmt=\"pretty\"))\n",
    "    "
   ]
  },
  {
   "cell_type": "code",
   "execution_count": null,
   "metadata": {},
   "outputs": [
    {
     "data": {
      "text/plain": [
       "(73845, 18)"
      ]
     },
     "execution_count": 78,
     "metadata": {},
     "output_type": "execute_result"
    }
   ],
   "source": [
    "df.shape"
   ]
  },
  {
   "cell_type": "code",
   "execution_count": null,
   "metadata": {},
   "outputs": [
    {
     "data": {
      "text/plain": [
       "Timely response?\n",
       "Yes    0.965414\n",
       "No     0.034586\n",
       "Name: proportion, dtype: float64"
      ]
     },
     "execution_count": 79,
     "metadata": {},
     "output_type": "execute_result"
    }
   ],
   "source": [
    "df['Timely response?'].value_counts(normalize=True)"
   ]
  },
  {
   "cell_type": "code",
   "execution_count": null,
   "metadata": {},
   "outputs": [
    {
     "data": {
      "text/plain": [
       "Consumer consent provided?\n",
       "Consent provided        0.621906\n",
       "Consent not provided    0.348155\n",
       "Other                   0.025306\n",
       "Consent withdrawn       0.004633\n",
       "Name: proportion, dtype: float64"
      ]
     },
     "execution_count": 80,
     "metadata": {},
     "output_type": "execute_result"
    }
   ],
   "source": [
    "df['Consumer consent provided?'].value_counts(normalize=True)"
   ]
  }
 ],
 "metadata": {
  "kernelspec": {
   "display_name": "base",
   "language": "python",
   "name": "python3"
  },
  "language_info": {
   "codemirror_mode": {
    "name": "ipython",
    "version": 3
   },
   "file_extension": ".py",
   "mimetype": "text/x-python",
   "name": "python",
   "nbconvert_exporter": "python",
   "pygments_lexer": "ipython3",
   "version": "3.11.4"
  }
 },
 "nbformat": 4,
 "nbformat_minor": 2
}
